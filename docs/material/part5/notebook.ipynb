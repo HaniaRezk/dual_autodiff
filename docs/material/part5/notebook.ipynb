{
 "cells": [
  {
   "cell_type": "code",
   "execution_count": 1,
   "metadata": {},
   "outputs": [],
   "source": [
    "import dual_autodiff as df"
   ]
  },
  {
   "cell_type": "markdown",
   "metadata": {},
   "source": [
    "Let's initialize some instances of our class:"
   ]
  },
  {
   "cell_type": "code",
   "execution_count": 18,
   "metadata": {},
   "outputs": [],
   "source": [
    "x=df.Dual(1,0)\n",
    "x1=df.Dual(1,0)\n",
    "y=df.Dual(3.1,100)\n",
    "z=df.Dual(0,8.5)\n",
    "z1=df.Dual(30,0)"
   ]
  },
  {
   "cell_type": "markdown",
   "metadata": {},
   "source": [
    "Let's visualize these numbers:"
   ]
  },
  {
   "cell_type": "code",
   "execution_count": 4,
   "metadata": {},
   "outputs": [
    {
     "name": "stdout",
     "output_type": "stream",
     "text": [
      "The dual numbers initialized are:  Dual(real=1, dual=0). Dual(real=3.1, dual=100). Dual(real=0, dual=8.5).\n"
     ]
    }
   ],
   "source": [
    "print(\"The dual numbers initialized are: \", x, y, z)"
   ]
  },
  {
   "cell_type": "markdown",
   "metadata": {},
   "source": [
    "Let's perform some operations on these dual numbers:"
   ]
  },
  {
   "cell_type": "code",
   "execution_count": 22,
   "metadata": {},
   "outputs": [
    {
     "name": "stdout",
     "output_type": "stream",
     "text": [
      "Result of adding x and y: Dual(real=4.1, dual=100).\n",
      "Result of adding x and 5: Dual(real=6, dual=0).\n",
      "Result of subtracting x from y: Dual(real=-2.1, dual=-100).\n",
      "Result of subtracting 7 from y: Dual(real=-3.9, dual=100).\n",
      "Result of multiplying x and y: Dual(real=3.1, dual=100.0).\n",
      "Result of multiplying 5 and y: Dual(real=15.5, dual=500).\n",
      "Result of dividing  x by y: Dual(real=0.3225806451612903, dual=-10.405827263267428).\n"
     ]
    }
   ],
   "source": [
    "print(\"Result of adding x and y:\", x+y)\n",
    "print(\"Result of adding x and 5:\", 5+x)\n",
    "print(\"Result of subtracting x from y:\", x-y)\n",
    "print(\"Result of subtracting 7 from y:\", y-7)\n",
    "print(\"Result of multiplying x and y:\", x*y)\n",
    "print(\"Result of multiplying 5 and y:\", 5*y)\n",
    "print(\"Result of dividing  x by y:\", x/y)"
   ]
  },
  {
   "cell_type": "markdown",
   "metadata": {},
   "source": [
    "Let's explore how the package handles edge cases, such as division by zero."
   ]
  },
  {
   "cell_type": "code",
   "execution_count": 23,
   "metadata": {},
   "outputs": [
    {
     "name": "stderr",
     "output_type": "stream",
     "text": [
      "WARNING: Division of dual numbers is not defined when the the denominator is zero\n"
     ]
    },
    {
     "name": "stdout",
     "output_type": "stream",
     "text": [
      "Result of dividing  x by 0: nan\n"
     ]
    }
   ],
   "source": [
    "print(\"Result of dividing  x by 0:\", x/0)"
   ]
  },
  {
   "cell_type": "markdown",
   "metadata": {},
   "source": [
    "Let's make some comparisions: "
   ]
  },
  {
   "cell_type": "code",
   "execution_count": 21,
   "metadata": {},
   "outputs": [
    {
     "name": "stdout",
     "output_type": "stream",
     "text": [
      "x==4: False\n",
      "x!=4: True\n",
      "x==x1: True\n",
      "x1!=x: False\n",
      "z1==30 True\n"
     ]
    }
   ],
   "source": [
    "print(\"x==4:\", x==4)\n",
    "print(\"x!=4:\", x!=4)\n",
    "print(\"x==x1:\", x==x1)\n",
    "print(\"x1!=x:\", x!=x1)\n",
    "print(\"z1==30\", z1==30)"
   ]
  },
  {
   "cell_type": "markdown",
   "metadata": {},
   "source": [
    "Let's apply functions on these dual numbers:"
   ]
  },
  {
   "cell_type": "code",
   "execution_count": 24,
   "metadata": {},
   "outputs": [
    {
     "name": "stdout",
     "output_type": "stream",
     "text": [
      "Result of cos(x): Dual(real=0.5403023058681398, dual=-0.0).\n",
      "Result of sin(y): Dual(real=0.04158066243329049, dual=-99.91351502732795).\n",
      "Result of log(y): Dual(real=1.1314021114911006, dual=32.25806451612903).\n"
     ]
    }
   ],
   "source": [
    "print(\"Result of cos(x):\", x.cos())\n",
    "print(\"Result of sin(y):\", y.sin())\n",
    "print(\"Result of log(y):\", y.log())"
   ]
  },
  {
   "cell_type": "code",
   "execution_count": 27,
   "metadata": {},
   "outputs": [
    {
     "name": "stdout",
     "output_type": "stream",
     "text": [
      "Inverse(y.real): 0.3225806451612903 Inverse'(y.real)*y.dual= -10.405827263267428\n"
     ]
    }
   ],
   "source": [
    "z_inv = y.inverse()\n",
    "print(\"Inverse(y.real):\", z_inv.real, \". Inverse'(y.real)*y.dual=\", z_inv.dual)\n"
   ]
  }
 ],
 "metadata": {
  "kernelspec": {
   "display_name": "package env",
   "language": "python",
   "name": "venv_dual"
  },
  "language_info": {
   "codemirror_mode": {
    "name": "ipython",
    "version": 3
   },
   "file_extension": ".py",
   "mimetype": "text/x-python",
   "name": "python",
   "nbconvert_exporter": "python",
   "pygments_lexer": "ipython3",
   "version": "3.9.13"
  },
  "orig_nbformat": 4
 },
 "nbformat": 4,
 "nbformat_minor": 2
}
