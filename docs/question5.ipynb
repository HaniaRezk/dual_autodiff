{
 "cells": [
  {
   "cell_type": "markdown",
   "metadata": {},
   "source": [
    "##Goal\n",
    "The code provided aims to compare the derivative of the function defined as :\n",
    "f(x) = log(sin(x)) + x^2cos(x)."
   ]
  },
  {
   "cell_type": "markdown",
   "metadata": {},
   "source": [
    "The derivative will be computed using three different methods:\n",
    "\n",
    "1-Automatic differentiation using dual numbers\n",
    "\n",
    "2-Analytic method\n",
    "\n",
    "3-Numerical method"
   ]
  },
  {
   "cell_type": "markdown",
   "metadata": {},
   "source": [
    "##Implementation"
   ]
  },
  {
   "cell_type": "markdown",
   "metadata": {},
   "source": [
    "Make sure to run 'make install' from the docs folder in your kernel environment to install the necessary libraries for running this notebook (refer to the README for more details)."
   ]
  },
  {
   "cell_type": "code",
   "execution_count": null,
   "metadata": {},
   "outputs": [],
   "source": [
    "#Import the packages installed in your environment\n",
    "import matplotlib.pyplot as plt\n",
    "import dual_autodiff as df\n",
    "import numpy as np\n",
    "import time\n",
    "import functools"
   ]
  },
  {
   "cell_type": "markdown",
   "metadata": {},
   "source": [
    "Defining a time decorator to compute the execution time of the functions"
   ]
  },
  {
   "cell_type": "code",
   "execution_count": null,
   "metadata": {},
   "outputs": [],
   "source": [
    "def time_decorator(func):\n",
    "    \"\"\"\n",
    "    A decorator to compute the execution time of each function, and help compare their performances.\n",
    "    \"\"\"\n",
    "    @functools.wraps(func)\n",
    "    def wrapper(*args,**kwargs):\n",
    "        print(\"Executing: \",func.__name__)\n",
    "        start=time.time()\n",
    "        result=func(*args,**kwargs)\n",
    "        end=time.time()\n",
    "        print(\"Execution time for this function is: \", end-start)\n",
    "        return result\n",
    "    return wrapper"
   ]
  },
  {
   "cell_type": "markdown",
   "metadata": {},
   "source": [
    "Defining the function f(x) for which we want to compute the derivative using different methods."
   ]
  },
  {
   "cell_type": "code",
   "execution_count": null,
   "metadata": {},
   "outputs": [],
   "source": [
    "def f(x):\n",
    "    \"\"\"\n",
    "    The function for which we want to compute the derivatives using different methods.\n",
    "\n",
    "    Parameters:\n",
    "        x: value at which we want to compute the value of the function.\n",
    "\n",
    "    Returns: \n",
    "        The function f(x) evaluated at x.\n",
    "    \"\"\"\n",
    "    return np.log(np.sin(x))+x**2*np.cos(x)"
   ]
  },
  {
   "cell_type": "markdown",
   "metadata": {},
   "source": [
    "Defining the functions to compute the derivatives of f(x) using different methods."
   ]
  },
  {
   "cell_type": "code",
   "execution_count": null,
   "metadata": {},
   "outputs": [],
   "source": [
    "@time_decorator\n",
    "def f_analytical(x):\n",
    "    \"\"\"\n",
    "    The function that computes analytically the derivative of f(x).\n",
    "\n",
    "    Parameters:\n",
    "        x: value at which we want to compute the derivative.\n",
    "\n",
    "    Returns:\n",
    "        The analytic derivative of f(x) evaluated at x.\n",
    "    \"\"\"\n",
    "    return (2*x*np.cos(x)+x**2*-np.sin(x)+(np.cos(x)/np.sin(x)))\n",
    "\n",
    "\n",
    "def f_numerically(x,h):\n",
    "    \"\"\"\n",
    "    The function that computes numerically the derivative of f(x).\n",
    "\n",
    "    Parameters:\n",
    "        x: value at which we want to compute the derivative.\n",
    "        h: step size.\n",
    "\n",
    "    Returns:\n",
    "        The numerical derivative of f(x) evaluated at x.\n",
    "    \"\"\"\n",
    "    return (f(x+h)-f(x))/h\n",
    "\n",
    "@time_decorator\n",
    "def f_AD(x):\n",
    "    \"\"\"\n",
    "    The function that computes the derivative of f(x) using automatic differentiation.\n",
    "    Please refer to the report for the logic behind automatic differentiation using dual numbers.\n",
    "\n",
    "    Parameters:\n",
    "        x: the value at which we want to compute the derivative.\n",
    "\n",
    "    Returns:\n",
    "        Derivative computed using dual numbers.\n",
    "    \"\"\"\n",
    "    x1=df.Dual(x,1.0)\n",
    "    result=(x1.cos()*x1.square() + (x1.sin()).log())\n",
    "    return result.dual"
   ]
  },
  {
   "cell_type": "markdown",
   "metadata": {},
   "source": [
    "Visualising the results of the derivatives of f(x) evaluated at 1.5"
   ]
  },
  {
   "cell_type": "code",
   "execution_count": null,
   "metadata": {},
   "outputs": [],
   "source": [
    "result_dual=f_AD(1.5)\n",
    "result_analytical=f_analytical(1.5)\n",
    "result_numerically=f_numerically(1.5,1e-10)\n",
    "print(\"Derivative of f(x) using dual numbers is \", result_dual)\n",
    "print(\"Analytical derivative of f(x)  is \", result_analytical)\n",
    "print(\"Numerical derivative of f(x), with step size= 1e-10 is \",result_numerically)"
   ]
  },
  {
   "cell_type": "markdown",
   "metadata": {},
   "source": [
    "Plotting the differences between the analytical and numerical derivatives for different step sizes"
   ]
  },
  {
   "cell_type": "code",
   "execution_count": null,
   "metadata": {},
   "outputs": [],
   "source": [
    "def numerical_values():\n",
    "    \"\"\"\n",
    "    A function that plots the analytical and numerical derivatives for different step sizes h.\n",
    "    \"\"\"\n",
    "    numerical_results=[]\n",
    "    step_size = [1,0.5,0.01,0.001,0.0001,0.00001,0.000001,1e-7,1e-8,1e-9,1e-10,1e-11,1e-12,1e-13,1e-14,1e-15,1e-16,1e-17,1e-18]\n",
    "    #Numerical derivatives for different step sizes\n",
    "    for h in step_size:\n",
    "        numerical_results.append(f_numerically(1.5,h))\n",
    "    #Plots\n",
    "    plt.plot(step_size,numerical_results,label=\"Numerical derivative\")\n",
    "    plt.axhline(y=result_analytical, color='r', label=\"Analytical derivative\")\n",
    "    plt.xlabel(\"Step size\")\n",
    "    plt.xscale('log')\n",
    "    plt.ylabel(\"Numerical and analytical derivatives\")\n",
    "    plt.title(\"Figure 1\")\n",
    "    plt.grid()\n",
    "    plt.legend()\n",
    "    plt.show()"
   ]
  },
  {
   "cell_type": "code",
   "execution_count": null,
   "metadata": {},
   "outputs": [],
   "source": [
    "numerical_values()"
   ]
  },
  {
   "cell_type": "markdown",
   "metadata": {},
   "source": [
    "Same plot as before, but zoomed in on the interval [1e-16, 1e-13]."
   ]
  },
  {
   "cell_type": "code",
   "execution_count": null,
   "metadata": {},
   "outputs": [],
   "source": [
    "def interval():\n",
    "    \"\"\"\n",
    "    A function that plots the numerical derivative for step sizes h in the interval [1e-16,1e-13].\n",
    "    \"\"\"\n",
    "    numerical_results=[]\n",
    "    values = np.logspace(-16, -13, num=1000)\n",
    "    #Numerical derivatives for different step sizes\n",
    "    for h in values:\n",
    "        numerical_results.append(f_numerically(1.5,h))\n",
    "    #Plots\n",
    "    plt.plot(values,numerical_results,label=\"Numerical derivative\")\n",
    "    plt.axhline(y=result_analytical, color='r', label=\"Analytical derivative\")\n",
    "    plt.xlabel(\"Step size\")\n",
    "    plt.xscale('log')\n",
    "    plt.ylabel(\"Numerical derivatives\")\n",
    "    plt.title(\"Figure 2\")\n",
    "    plt.grid()\n",
    "    plt.legend()\n",
    "    plt.show()"
   ]
  },
  {
   "cell_type": "code",
   "execution_count": null,
   "metadata": {},
   "outputs": [],
   "source": [
    "interval()"
   ]
  }
 ],
 "metadata": {
  "language_info": {
   "name": "python"
  },
  "orig_nbformat": 4
 },
 "nbformat": 4,
 "nbformat_minor": 2
}
